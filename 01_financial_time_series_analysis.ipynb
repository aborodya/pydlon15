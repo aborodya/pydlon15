{
 "cells": [
  {
   "cell_type": "markdown",
   "metadata": {
    "slideshow": {
     "slide_type": "slide"
    }
   },
   "source": [
    "<img src=\"http://hilpisch.com/tpq_logo.png\" alt=\"The Python Quants\" width=\"35%\" align=\"right\" border=\"0\"><br>"
   ]
  },
  {
   "cell_type": "markdown",
   "metadata": {},
   "source": [
    "# Financial Time Series Analysis"
   ]
  },
  {
   "cell_type": "markdown",
   "metadata": {},
   "source": [
    "**PyData London 2015**"
   ]
  },
  {
   "cell_type": "markdown",
   "metadata": {},
   "source": [
    "Yves Hilpisch\n",
    "\n",
    "<a href='mailto:team@tpq.io'>team@tpq.io</a> | <a href='http://tpq.io'>http://tpq.io</a>\n",
    "\n",
    "The Python Quants GmbH"
   ]
  },
  {
   "cell_type": "markdown",
   "metadata": {
    "slideshow": {
     "slide_type": "slide"
    }
   },
   "source": [
    "## TsTables &ndash; High Performance Times Series Management"
   ]
  },
  {
   "cell_type": "markdown",
   "metadata": {
    "slideshow": {
     "slide_type": "subslide"
    }
   },
   "source": [
    "**TsTables** is a Python library by Andy Fiedler built on top of the popular ``PyTables`` HDF5 database library. It is meant to handle large amounts of **high frequency time series data** in **append once, retrieve many times** scenarios (cf. [Gihub page](https://github.com/afiedler/tstables)). The focus lies on retrieving chunks of data from large data sets as quickly as possible."
   ]
  },
  {
   "cell_type": "code",
   "execution_count": 3,
   "metadata": {
    "collapsed": false,
    "slideshow": {
     "slide_type": "subslide"
    }
   },
   "outputs": [
    {
     "name": "stderr",
     "output_type": "stream",
     "text": [
      "/Users/aborodya/miniconda3/lib/python3.5/site-packages/matplotlib/font_manager.py:273: UserWarning: Matplotlib is building the font cache using fc-list. This may take a moment.\n",
      "  warnings.warn('Matplotlib is building the font cache using fc-list. This may take a moment.')\n",
      "/Users/aborodya/miniconda3/lib/python3.5/site-packages/matplotlib/font_manager.py:273: UserWarning: Matplotlib is building the font cache using fc-list. This may take a moment.\n",
      "  warnings.warn('Matplotlib is building the font cache using fc-list. This may take a moment.')\n"
     ]
    }
   ],
   "source": [
    "import numpy as np\n",
    "import pandas as pd\n",
    "import tables as tb\n",
    "import tstables as tstb\n",
    "import random\n",
    "from time import time\n",
    "from datetime import datetime \n",
    "%matplotlib inline\n",
    "import seaborn as sns\n",
    "sns.set()"
   ]
  },
  {
   "cell_type": "markdown",
   "metadata": {
    "slideshow": {
     "slide_type": "subslide"
    }
   },
   "source": [
    "### Sample Time Series Data"
   ]
  },
  {
   "cell_type": "markdown",
   "metadata": {},
   "source": [
    "Let us generate a **decent amount of sample data points**."
   ]
  },
  {
   "cell_type": "code",
   "execution_count": 4,
   "metadata": {
    "collapsed": false
   },
   "outputs": [],
   "source": [
    "no = 10000000\n",
    "co = 3\n",
    "dt = 1. / (12 * 30 * 24 * 60)\n",
    "vol = 0.2"
   ]
  },
  {
   "cell_type": "markdown",
   "metadata": {
    "slideshow": {
     "slide_type": "subslide"
    }
   },
   "source": [
    "We generate **one second intervals** of data."
   ]
  },
  {
   "cell_type": "code",
   "execution_count": 5,
   "metadata": {
    "collapsed": false
   },
   "outputs": [],
   "source": [
    "dr = pd.date_range('2015-1-1', periods=no, freq='1s')"
   ]
  },
  {
   "cell_type": "code",
   "execution_count": 6,
   "metadata": {
    "collapsed": false
   },
   "outputs": [
    {
     "data": {
      "text/plain": [
       "DatetimeIndex(['2015-01-01 00:00:00', '2015-01-01 00:00:01',\n",
       "               '2015-01-01 00:00:02', '2015-01-01 00:00:03',\n",
       "               '2015-01-01 00:00:04', '2015-01-01 00:00:05',\n",
       "               '2015-01-01 00:00:06', '2015-01-01 00:00:07',\n",
       "               '2015-01-01 00:00:08', '2015-01-01 00:00:09',\n",
       "               ...\n",
       "               '2015-04-26 17:46:30', '2015-04-26 17:46:31',\n",
       "               '2015-04-26 17:46:32', '2015-04-26 17:46:33',\n",
       "               '2015-04-26 17:46:34', '2015-04-26 17:46:35',\n",
       "               '2015-04-26 17:46:36', '2015-04-26 17:46:37',\n",
       "               '2015-04-26 17:46:38', '2015-04-26 17:46:39'],\n",
       "              dtype='datetime64[ns]', length=10000000, freq='S')"
      ]
     },
     "execution_count": 6,
     "metadata": {},
     "output_type": "execute_result"
    }
   ],
   "source": [
    "dr"
   ]
  },
  {
   "cell_type": "markdown",
   "metadata": {
    "slideshow": {
     "slide_type": "subslide"
    }
   },
   "source": [
    "**In memory** generation is quite quick."
   ]
  },
  {
   "cell_type": "code",
   "execution_count": 7,
   "metadata": {
    "collapsed": false
   },
   "outputs": [
    {
     "name": "stdout",
     "output_type": "stream",
     "text": [
      "CPU times: user 1.43 s, sys: 423 ms, total: 1.85 s\n",
      "Wall time: 1.85 s\n"
     ]
    }
   ],
   "source": [
    "%%time\n",
    "da = 100 * np.exp(np.cumsum(-0.5 * vol ** 2 * dt +\n",
    "        vol * np.sqrt(dt) * np.random.standard_normal((no, co)), axis=0))\n",
    "da[0] = 100"
   ]
  },
  {
   "cell_type": "code",
   "execution_count": 8,
   "metadata": {
    "collapsed": false
   },
   "outputs": [],
   "source": [
    "df = pd.DataFrame(da, index=dr, columns=['ts1', 'ts2', 'ts3'])"
   ]
  },
  {
   "cell_type": "code",
   "execution_count": 9,
   "metadata": {
    "collapsed": false
   },
   "outputs": [
    {
     "data": {
      "text/plain": [
       "ts1    10000000\n",
       "ts2    10000000\n",
       "ts3    10000000\n",
       "dtype: int64"
      ]
     },
     "execution_count": 9,
     "metadata": {},
     "output_type": "execute_result"
    }
   ],
   "source": [
    "df.count()"
   ]
  },
  {
   "cell_type": "markdown",
   "metadata": {
    "slideshow": {
     "slide_type": "subslide"
    }
   },
   "source": [
    "The **starting values** of the three time series."
   ]
  },
  {
   "cell_type": "code",
   "execution_count": 10,
   "metadata": {
    "collapsed": false
   },
   "outputs": [
    {
     "data": {
      "text/html": [
       "<div>\n",
       "<table border=\"1\" class=\"dataframe\">\n",
       "  <thead>\n",
       "    <tr style=\"text-align: right;\">\n",
       "      <th></th>\n",
       "      <th>ts1</th>\n",
       "      <th>ts2</th>\n",
       "      <th>ts3</th>\n",
       "    </tr>\n",
       "  </thead>\n",
       "  <tbody>\n",
       "    <tr>\n",
       "      <th>2015-01-01 00:00:00</th>\n",
       "      <td>100.000000</td>\n",
       "      <td>100.000000</td>\n",
       "      <td>100.000000</td>\n",
       "    </tr>\n",
       "    <tr>\n",
       "      <th>2015-01-01 00:00:01</th>\n",
       "      <td>99.961553</td>\n",
       "      <td>99.967103</td>\n",
       "      <td>99.969363</td>\n",
       "    </tr>\n",
       "    <tr>\n",
       "      <th>2015-01-01 00:00:02</th>\n",
       "      <td>99.935305</td>\n",
       "      <td>99.936084</td>\n",
       "      <td>99.951944</td>\n",
       "    </tr>\n",
       "    <tr>\n",
       "      <th>2015-01-01 00:00:03</th>\n",
       "      <td>99.955377</td>\n",
       "      <td>99.984249</td>\n",
       "      <td>99.955073</td>\n",
       "    </tr>\n",
       "    <tr>\n",
       "      <th>2015-01-01 00:00:04</th>\n",
       "      <td>99.985344</td>\n",
       "      <td>100.005622</td>\n",
       "      <td>99.946496</td>\n",
       "    </tr>\n",
       "  </tbody>\n",
       "</table>\n",
       "</div>"
      ],
      "text/plain": [
       "                            ts1         ts2         ts3\n",
       "2015-01-01 00:00:00  100.000000  100.000000  100.000000\n",
       "2015-01-01 00:00:01   99.961553   99.967103   99.969363\n",
       "2015-01-01 00:00:02   99.935305   99.936084   99.951944\n",
       "2015-01-01 00:00:03   99.955377   99.984249   99.955073\n",
       "2015-01-01 00:00:04   99.985344  100.005622   99.946496"
      ]
     },
     "execution_count": 10,
     "metadata": {},
     "output_type": "execute_result"
    }
   ],
   "source": [
    "df.head()"
   ]
  },
  {
   "cell_type": "markdown",
   "metadata": {
    "slideshow": {
     "slide_type": "subslide"
    }
   },
   "source": [
    "And a **plot** of the time series data (every 100000th point)."
   ]
  },
  {
   "cell_type": "code",
   "execution_count": 11,
   "metadata": {
    "collapsed": false,
    "slideshow": {
     "slide_type": "-"
    }
   },
   "outputs": [
    {
     "data": {
      "text/plain": [
       "<matplotlib.axes._subplots.AxesSubplot at 0x1158ca358>"
      ]
     },
     "execution_count": 11,
     "metadata": {},
     "output_type": "execute_result"
    },
    {
     "data": {
      "image/png": "[encoded data removed]",
      "text/plain": [
       "<matplotlib.figure.Figure at 0x1158ca860>"
      ]
     },
     "metadata": {},
     "output_type": "display_data"
    }
   ],
   "source": [
    "df[::200000].plot()"
   ]
  },
  {
   "cell_type": "markdown",
   "metadata": {
    "slideshow": {
     "slide_type": "subslide"
    }
   },
   "source": [
    "### Storage and Retrieval with TsTables"
   ]
  },
  {
   "cell_type": "markdown",
   "metadata": {},
   "source": [
    "To store the time series data in a **PyTables table** we first define the **table structure**."
   ]
  },
  {
   "cell_type": "code",
   "execution_count": 12,
   "metadata": {
    "collapsed": false
   },
   "outputs": [],
   "source": [
    "class TS(tb.IsDescription):\n",
    "    timestamp = tb.Int64Col(pos=0)\n",
    "    ts1 = tb.Float64Col(pos=1)\n",
    "    ts2 = tb.Float64Col(pos=2)\n",
    "    ts3 = tb.Float64Col(pos=3)"
   ]
  },
  {
   "cell_type": "markdown",
   "metadata": {
    "slideshow": {
     "slide_type": "subslide"
    }
   },
   "source": [
    "Second, open a database file and **create the table object**."
   ]
  },
  {
   "cell_type": "code",
   "execution_count": 13,
   "metadata": {
    "collapsed": false
   },
   "outputs": [],
   "source": [
    "h5 = tb.open_file('ts.h5','w')"
   ]
  },
  {
   "cell_type": "markdown",
   "metadata": {
    "slideshow": {
     "slide_type": "subslide"
    }
   },
   "source": [
    "TsTables adds a new function **``create_ts``** to PyTables."
   ]
  },
  {
   "cell_type": "code",
   "execution_count": 14,
   "metadata": {
    "collapsed": false
   },
   "outputs": [],
   "source": [
    "ts = h5.create_ts('/','TS', TS)"
   ]
  },
  {
   "cell_type": "markdown",
   "metadata": {
    "slideshow": {
     "slide_type": "subslide"
    }
   },
   "source": [
    "Third, we **append the time series data** to the table object."
   ]
  },
  {
   "cell_type": "code",
   "execution_count": 15,
   "metadata": {
    "collapsed": false
   },
   "outputs": [
    {
     "name": "stdout",
     "output_type": "stream",
     "text": [
      "CPU times: user 835 ms, sys: 483 ms, total: 1.32 s\n",
      "Wall time: 1.38 s\n"
     ]
    }
   ],
   "source": [
    "%time ts.append(df)"
   ]
  },
  {
   "cell_type": "code",
   "execution_count": 16,
   "metadata": {
    "collapsed": false
   },
   "outputs": [
    {
     "name": "stdout",
     "output_type": "stream",
     "text": [
      "-rw-r--r--  1 501  20  301544176 Jul 17 09:37 ts.h5\r\n"
     ]
    }
   ],
   "source": [
    "ls -n *.h5"
   ]
  },
  {
   "cell_type": "markdown",
   "metadata": {
    "slideshow": {
     "slide_type": "subslide"
    }
   },
   "source": [
    "The **approach** of ``TsTables`` is to apply a **highly structured storage** hierarchy."
   ]
  },
  {
   "cell_type": "code",
   "execution_count": 18,
   "metadata": {
    "collapsed": false
   },
   "outputs": [
    {
     "name": "stdout",
     "output_type": "stream",
     "text": [
      "ts.h5 (File) ''\n",
      "Last modif.: 'Sun Jul 17 09:37:01 2016'\n",
      "Object Tree: \n",
      "/ (RootGroup) ''\n",
      "/TS (Group/Timeseries) ''\n",
      "/TS/y2015 (Group) ''\n",
      "/TS/y2016 (Group) ''\n",
      "/TS/y2016/m07 (Group) ''\n",
      "/TS/y2016/m07/d17 (Group) ''\n",
      "/TS/y2016/m07/d17/ts_data (Table(0,)) ''\n",
      "/TS/y2015/m01 (Group) ''\n",
      "/TS/y2015/m02 (Group) ''\n",
      "/TS/y2015/m03 (Group) ''\n",
      "/TS/y2015/m04 (Group) ''\n",
      "/TS/y2015/m04/d01 (Group) ''\n",
      "/TS/y2015/m04/d01/ts_data (Table(86400,)) ''\n",
      "/TS/y2015/m04/d02 (Group) ''\n",
      "/TS/y2015/m04/d02/ts_data (Table(86400,)) ''\n",
      "/TS/y2015/\n"
     ]
    }
   ],
   "source": [
    "a = str(h5)\n",
    "print(a[:508])"
   ]
  },
  {
   "cell_type": "markdown",
   "metadata": {
    "slideshow": {
     "slide_type": "subslide"
    }
   },
   "source": [
    "The strength of TsTables lies in retrieving **chunks of time series data** defined by a **start date and an end date** (which obviously is a typical case in finance, e.g. in backtesting strategies or risk management)."
   ]
  },
  {
   "cell_type": "code",
   "execution_count": 19,
   "metadata": {
    "collapsed": false
   },
   "outputs": [],
   "source": [
    "read_start_dt = datetime(2015, 2, 1, 0, 0)\n",
    "read_end_dt = datetime(2015, 2, 2, 0, 0)"
   ]
  },
  {
   "cell_type": "markdown",
   "metadata": {
    "slideshow": {
     "slide_type": "subslide"
    }
   },
   "source": [
    "TsTables tries to make such an operation **as fast as possible**."
   ]
  },
  {
   "cell_type": "code",
   "execution_count": 20,
   "metadata": {
    "collapsed": false
   },
   "outputs": [
    {
     "name": "stdout",
     "output_type": "stream",
     "text": [
      "CPU times: user 15.2 ms, sys: 6.3 ms, total: 21.5 ms\n",
      "Wall time: 52.2 ms\n"
     ]
    }
   ],
   "source": [
    "%time rows = ts.read_range(read_start_dt, read_end_dt)"
   ]
  },
  {
   "cell_type": "markdown",
   "metadata": {
    "slideshow": {
     "slide_type": "subslide"
    }
   },
   "source": [
    "Let us try it with **random intervals**."
   ]
  },
  {
   "cell_type": "code",
   "execution_count": 22,
   "metadata": {
    "collapsed": false
   },
   "outputs": [],
   "source": [
    "t0 = time()\n",
    "its = 100\n",
    "for _ in range(its):\n",
    "    day = random.randint(1, 27)\n",
    "    read_start_dt = datetime(2015, 2, day, 0, 0)\n",
    "    read_end_dt = datetime(2015, 2, day + 1, 0, 0)\n",
    "    rows = ts.read_range(read_start_dt, read_end_dt)\n",
    "t1 = time()"
   ]
  },
  {
   "cell_type": "markdown",
   "metadata": {
    "slideshow": {
     "slide_type": "subslide"
    }
   },
   "source": [
    "The **results** are convincing."
   ]
  },
  {
   "cell_type": "code",
   "execution_count": 24,
   "metadata": {
    "collapsed": false
   },
   "outputs": [
    {
     "name": "stdout",
     "output_type": "stream",
     "text": [
      "time for 100 random accesses    1.354 seconds\n",
      "average time for random access  0.014 seconds\n"
     ]
    }
   ],
   "source": [
    "print(\"time for %d random accesses    %5.3f seconds\" %(its, t1 - t0))\n",
    "print(\"average time for random access  %5.3f seconds\" %((t1 - t0) / its))"
   ]
  },
  {
   "cell_type": "markdown",
   "metadata": {
    "slideshow": {
     "slide_type": "subslide"
    }
   },
   "source": [
    "Conveniently, the **returned object is a pandas DataFrame**."
   ]
  },
  {
   "cell_type": "code",
   "execution_count": 25,
   "metadata": {
    "collapsed": false
   },
   "outputs": [
    {
     "data": {
      "text/plain": [
       "ts1    86401\n",
       "ts2    86401\n",
       "ts3    86401\n",
       "dtype: int64"
      ]
     },
     "execution_count": 25,
     "metadata": {},
     "output_type": "execute_result"
    }
   ],
   "source": [
    "rows.count()"
   ]
  },
  {
   "cell_type": "code",
   "execution_count": 26,
   "metadata": {
    "collapsed": false
   },
   "outputs": [
    {
     "data": {
      "text/html": [
       "<div>\n",
       "<table border=\"1\" class=\"dataframe\">\n",
       "  <thead>\n",
       "    <tr style=\"text-align: right;\">\n",
       "      <th></th>\n",
       "      <th>ts1</th>\n",
       "      <th>ts2</th>\n",
       "      <th>ts3</th>\n",
       "    </tr>\n",
       "  </thead>\n",
       "  <tbody>\n",
       "    <tr>\n",
       "      <th>2015-02-26 00:00:00</th>\n",
       "      <td>116.301739</td>\n",
       "      <td>41.931321</td>\n",
       "      <td>97.275611</td>\n",
       "    </tr>\n",
       "    <tr>\n",
       "      <th>2015-02-26 00:00:01</th>\n",
       "      <td>116.332195</td>\n",
       "      <td>41.944602</td>\n",
       "      <td>97.316860</td>\n",
       "    </tr>\n",
       "    <tr>\n",
       "      <th>2015-02-26 00:00:02</th>\n",
       "      <td>116.331414</td>\n",
       "      <td>41.951794</td>\n",
       "      <td>97.338857</td>\n",
       "    </tr>\n",
       "    <tr>\n",
       "      <th>2015-02-26 00:00:03</th>\n",
       "      <td>116.359935</td>\n",
       "      <td>41.963353</td>\n",
       "      <td>97.379537</td>\n",
       "    </tr>\n",
       "    <tr>\n",
       "      <th>2015-02-26 00:00:04</th>\n",
       "      <td>116.327301</td>\n",
       "      <td>41.965918</td>\n",
       "      <td>97.390394</td>\n",
       "    </tr>\n",
       "  </tbody>\n",
       "</table>\n",
       "</div>"
      ],
      "text/plain": [
       "                            ts1        ts2        ts3\n",
       "2015-02-26 00:00:00  116.301739  41.931321  97.275611\n",
       "2015-02-26 00:00:01  116.332195  41.944602  97.316860\n",
       "2015-02-26 00:00:02  116.331414  41.951794  97.338857\n",
       "2015-02-26 00:00:03  116.359935  41.963353  97.379537\n",
       "2015-02-26 00:00:04  116.327301  41.965918  97.390394"
      ]
     },
     "execution_count": 26,
     "metadata": {},
     "output_type": "execute_result"
    }
   ],
   "source": [
    "rows.head()"
   ]
  },
  {
   "cell_type": "markdown",
   "metadata": {
    "slideshow": {
     "slide_type": "subslide"
    }
   },
   "source": [
    "A look at a **data sub-set**."
   ]
  },
  {
   "cell_type": "code",
   "execution_count": 27,
   "metadata": {
    "collapsed": false
   },
   "outputs": [
    {
     "data": {
      "text/plain": [
       "<matplotlib.axes._subplots.AxesSubplot at 0x116d1fd68>"
      ]
     },
     "execution_count": 27,
     "metadata": {},
     "output_type": "execute_result"
    },
    {
     "data": {
      "image/png": "[encoded data removed]",
      "text/plain": [
       "<matplotlib.figure.Figure at 0x116da3630>"
      ]
     },
     "metadata": {},
     "output_type": "display_data"
    }
   ],
   "source": [
    "rows[::500].plot()"
   ]
  },
  {
   "cell_type": "code",
   "execution_count": 28,
   "metadata": {
    "collapsed": false
   },
   "outputs": [],
   "source": [
    "h5.close()"
   ]
  },
  {
   "cell_type": "code",
   "execution_count": 29,
   "metadata": {
    "collapsed": false
   },
   "outputs": [],
   "source": [
    "!rm ts.h5"
   ]
  },
  {
   "cell_type": "markdown",
   "metadata": {
    "slideshow": {
     "slide_type": "slide"
    }
   },
   "source": [
    "## bcolz &ndash; High Performance Columnar Data Store"
   ]
  },
  {
   "cell_type": "markdown",
   "metadata": {
    "slideshow": {
     "slide_type": "subslide"
    }
   },
   "source": [
    "`bcolz` is a **columnar data store** for fast data storage and retrieval with built-in **high performance compression**. It supports both **in-memory and out-of-memory** storage and operations. Cf. <a href=\"http://bcolz.blosc.org/\" target=\"_blank\">http://bcolz.blosc.org/</a>."
   ]
  },
  {
   "cell_type": "code",
   "execution_count": 31,
   "metadata": {
    "collapsed": false
   },
   "outputs": [],
   "source": [
    "import bcolz"
   ]
  },
  {
   "cell_type": "markdown",
   "metadata": {
    "slideshow": {
     "slide_type": "subslide"
    }
   },
   "source": [
    "## ctable Example "
   ]
  },
  {
   "cell_type": "markdown",
   "metadata": {},
   "source": [
    "The first example is based on the ``ctable`` class for data in **table format**. The example data set is **100 MB** in size."
   ]
  },
  {
   "cell_type": "code",
   "execution_count": 33,
   "metadata": {
    "collapsed": false
   },
   "outputs": [
    {
     "name": "stdout",
     "output_type": "stream",
     "text": [
      "10000000\n"
     ]
    }
   ],
   "source": [
    "N = 100000 * 100\n",
    "print(N)"
   ]
  },
  {
   "cell_type": "markdown",
   "metadata": {
    "slideshow": {
     "slide_type": "subslide"
    }
   },
   "source": [
    "### In-Memory Storage"
   ]
  },
  {
   "cell_type": "markdown",
   "metadata": {},
   "source": [
    "We generate first an **in-memory object** using high compression. Since we work with integers, **good compression ratios** are to be expected. It takes about **24 sec** to generate the ``ctable`` object from a generator via the ``fromiter`` method."
   ]
  },
  {
   "cell_type": "code",
   "execution_count": 35,
   "metadata": {
    "collapsed": false
   },
   "outputs": [
    {
     "name": "stdout",
     "output_type": "stream",
     "text": [
      "CPU times: user 4.92 s, sys: 13.4 ms, total: 4.93 s\n",
      "Wall time: 4.93 s\n"
     ]
    }
   ],
   "source": [
    "%%time\n",
    "ct = bcolz.fromiter(((i, i ** 2) for i in range(N)),\n",
    "                    dtype=\"i4, i8\",\n",
    "                    count=N,\n",
    "                    cparams=bcolz.cparams(clevel=9))"
   ]
  },
  {
   "cell_type": "markdown",
   "metadata": {
    "slideshow": {
     "slide_type": "subslide"
    }
   },
   "source": [
    "The **in-memory size** is about **15 MB** only, which translates in to a **compression ratio of 7+**."
   ]
  },
  {
   "cell_type": "code",
   "execution_count": 36,
   "metadata": {
    "collapsed": false
   },
   "outputs": [
    {
     "data": {
      "text/plain": [
       "ctable((10000000,), [('f0', '<i4'), ('f1', '<i8')])\n",
       "  nbytes: 114.44 MB; cbytes: 10.77 MB; ratio: 10.62\n",
       "  cparams := cparams(clevel=9, shuffle=1, cname='blosclz')\n",
       "[(0, 0) (1, 1) (2, 4) ..., (9999997, 99999940000009)\n",
       " (9999998, 99999960000004) (9999999, 99999980000001)]"
      ]
     },
     "execution_count": 36,
     "metadata": {},
     "output_type": "execute_result"
    }
   ],
   "source": [
    "ct"
   ]
  },
  {
   "cell_type": "markdown",
   "metadata": {
    "slideshow": {
     "slide_type": "subslide"
    }
   },
   "source": [
    "You can now implement **fast numerical operations** on this data object (note that the output is a ``carray`` object)."
   ]
  },
  {
   "cell_type": "code",
   "execution_count": 37,
   "metadata": {
    "collapsed": false
   },
   "outputs": [
    {
     "name": "stdout",
     "output_type": "stream",
     "text": [
      "CPU times: user 324 ms, sys: 131 ms, total: 455 ms\n",
      "Wall time: 155 ms\n"
     ]
    },
    {
     "data": {
      "text/plain": [
       "carray((10000000,), float64)\n",
       "  nbytes: 76.29 MB; cbytes: 37.38 MB; ratio: 2.04\n",
       "  cparams := cparams(clevel=5, shuffle=1, cname='blosclz')\n",
       "[  0.00000000e+00   2.00000000e+00   6.00000000e+00 ...,   2.26447238e+08\n",
       "   2.46447234e+08   2.66447232e+08]"
      ]
     },
     "execution_count": 37,
     "metadata": {},
     "output_type": "execute_result"
    }
   ],
   "source": [
    "%time ct.eval('f0 ** 2 + sqrt(f1)')"
   ]
  },
  {
   "cell_type": "markdown",
   "metadata": {
    "slideshow": {
     "slide_type": "subslide"
    }
   },
   "source": [
    "### Disk-Based Storage"
   ]
  },
  {
   "cell_type": "markdown",
   "metadata": {},
   "source": [
    "The same tasks can be implemented with **disk-based storage**. To this end, only specify the **``rootdir`` parameter**. With about **30 sec** the generation takes a bit longer on disk. everything else (especially the object handling) remaining the same however."
   ]
  },
  {
   "cell_type": "code",
   "execution_count": 38,
   "metadata": {
    "collapsed": false
   },
   "outputs": [
    {
     "name": "stdout",
     "output_type": "stream",
     "text": [
      "CPU times: user 5.04 s, sys: 82.2 ms, total: 5.13 s\n",
      "Wall time: 5.17 s\n"
     ]
    }
   ],
   "source": [
    "%%time\n",
    "ct = bcolz.fromiter(((i, i ** 2) for i in range(N)),\n",
    "                    dtype=\"i4, i8\",\n",
    "                    count=N, rootdir='ct',\n",
    "                    cparams=bcolz.cparams(clevel=9))"
   ]
  },
  {
   "cell_type": "markdown",
   "metadata": {
    "slideshow": {
     "slide_type": "subslide"
    }
   },
   "source": [
    "Everything else (especially the object handling) **remains almost the same** however."
   ]
  },
  {
   "cell_type": "code",
   "execution_count": 39,
   "metadata": {
    "collapsed": false
   },
   "outputs": [
    {
     "data": {
      "text/plain": [
       "ctable((10000000,), [('f0', '<i4'), ('f1', '<i8')])\n",
       "  nbytes: 114.44 MB; cbytes: 10.77 MB; ratio: 10.62\n",
       "  cparams := cparams(clevel=9, shuffle=1, cname='blosclz')\n",
       "  rootdir := 'ct'\n",
       "[(0, 0) (1, 1) (2, 4) ..., (9999997, 99999940000009)\n",
       " (9999998, 99999960000004) (9999999, 99999980000001)]"
      ]
     },
     "execution_count": 39,
     "metadata": {},
     "output_type": "execute_result"
    }
   ],
   "source": [
    "ct"
   ]
  },
  {
   "cell_type": "markdown",
   "metadata": {
    "slideshow": {
     "slide_type": "subslide"
    }
   },
   "source": [
    "The **numerical operations work in the same fashion** and hardly take longer due to native **multi threading and optimized caching**."
   ]
  },
  {
   "cell_type": "code",
   "execution_count": 40,
   "metadata": {
    "collapsed": false
   },
   "outputs": [
    {
     "name": "stdout",
     "output_type": "stream",
     "text": [
      "CPU times: user 332 ms, sys: 66.6 ms, total: 399 ms\n",
      "Wall time: 166 ms\n"
     ]
    },
    {
     "data": {
      "text/plain": [
       "carray((10000000,), float64)\n",
       "  nbytes: 76.29 MB; cbytes: 37.38 MB; ratio: 2.04\n",
       "  cparams := cparams(clevel=5, shuffle=1, cname='blosclz')\n",
       "[  0.00000000e+00   2.00000000e+00   6.00000000e+00 ...,   2.26447238e+08\n",
       "   2.46447234e+08   2.66447232e+08]"
      ]
     },
     "execution_count": 40,
     "metadata": {},
     "output_type": "execute_result"
    }
   ],
   "source": [
    "%time ct.eval('f0 ** 2 + sqrt(f1)')"
   ]
  },
  {
   "cell_type": "markdown",
   "metadata": {
    "slideshow": {
     "slide_type": "subslide"
    }
   },
   "source": [
    "Let us finally verify **system disk usage**."
   ]
  },
  {
   "cell_type": "code",
   "execution_count": 41,
   "metadata": {
    "collapsed": false
   },
   "outputs": [
    {
     "name": "stdout",
     "output_type": "stream",
     "text": [
      "__attrs__    __rootdirs__ \u001b[34mf0\u001b[m\u001b[m           \u001b[34mf1\u001b[m\u001b[m\r\n"
     ]
    }
   ],
   "source": [
    "!ls ct"
   ]
  },
  {
   "cell_type": "code",
   "execution_count": 42,
   "metadata": {
    "collapsed": false
   },
   "outputs": [
    {
     "name": "stdout",
     "output_type": "stream",
     "text": [
      "308K\tct/f0/data\r\n",
      "8.0K\tct/f0/meta\r\n",
      "320K\tct/f0\r\n",
      "9.9M\tct/f1/data\r\n",
      "8.0K\tct/f1/meta\r\n",
      "9.9M\tct/f1\r\n",
      " 10M\tct\r\n"
     ]
    }
   ],
   "source": [
    "!du -h ct\n",
    "# system disk usage"
   ]
  },
  {
   "cell_type": "code",
   "execution_count": 43,
   "metadata": {
    "collapsed": false
   },
   "outputs": [],
   "source": [
    "!rm -r ct"
   ]
  },
  {
   "cell_type": "markdown",
   "metadata": {
    "slideshow": {
     "slide_type": "subslide"
    }
   },
   "source": [
    "## carray Example"
   ]
  },
  {
   "cell_type": "markdown",
   "metadata": {},
   "source": [
    "This example is about **mid data** which does **not fit (in general) into memory** (without compression). "
   ]
  },
  {
   "cell_type": "code",
   "execution_count": 44,
   "metadata": {
    "collapsed": false
   },
   "outputs": [],
   "source": [
    "import numpy as np"
   ]
  },
  {
   "cell_type": "markdown",
   "metadata": {
    "slideshow": {
     "slide_type": "subslide"
    }
   },
   "source": [
    "We generte as basis a NumPy ``ndarray`` object of size **32 MB**."
   ]
  },
  {
   "cell_type": "code",
   "execution_count": 45,
   "metadata": {
    "collapsed": false
   },
   "outputs": [
    {
     "data": {
      "text/plain": [
       "32000000"
      ]
     },
     "execution_count": 45,
     "metadata": {},
     "output_type": "execute_result"
    }
   ],
   "source": [
    "n = 2000\n",
    "a = np.arange(n * n).reshape(n, n) \n",
    "a.nbytes"
   ]
  },
  {
   "cell_type": "markdown",
   "metadata": {
    "slideshow": {
     "slide_type": "subslide"
    }
   },
   "source": [
    "### In-Memory Storage"
   ]
  },
  {
   "cell_type": "markdown",
   "metadata": {},
   "source": [
    "Let us first again work **in-memory**. Our ``carray`` object contains **400 versions** of the ``ndarray`` object. The in-memory generation of the object takes about **2.5 secs**."
   ]
  },
  {
   "cell_type": "code",
   "execution_count": 46,
   "metadata": {
    "collapsed": false
   },
   "outputs": [
    {
     "name": "stdout",
     "output_type": "stream",
     "text": [
      "CPU times: user 2.25 s, sys: 119 ms, total: 2.37 s\n",
      "Wall time: 2.3 s\n"
     ]
    }
   ],
   "source": [
    "%%time\n",
    "it = 400\n",
    "ca = bcolz.carray(a, cparams=bcolz.cparams(clevel=9))\n",
    "for i in range(it):\n",
    "    ca.append(a)"
   ]
  },
  {
   "cell_type": "markdown",
   "metadata": {
    "slideshow": {
     "slide_type": "subslide"
    }
   },
   "source": [
    "The ``carray`` object stores **12 GB** worth of data in less than **0.1 GB** of memory, for a compression ratio of more than  **130**."
   ]
  },
  {
   "cell_type": "code",
   "execution_count": 47,
   "metadata": {
    "collapsed": false
   },
   "outputs": [
    {
     "data": {
      "text/plain": [
       "carray((802000, 2000), int64)\n",
       "  nbytes: 11.95 GB; cbytes: 84.90 MB; ratio: 144.15\n",
       "  cparams := cparams(clevel=9, shuffle=1, cname='blosclz')\n",
       "[[      0       1       2 ...,    1997    1998    1999]\n",
       " [   2000    2001    2002 ...,    3997    3998    3999]\n",
       " [   4000    4001    4002 ...,    5997    5998    5999]\n",
       " ..., \n",
       " [3994000 3994001 3994002 ..., 3995997 3995998 3995999]\n",
       " [3996000 3996001 3996002 ..., 3997997 3997998 3997999]\n",
       " [3998000 3998001 3998002 ..., 3999997 3999998 3999999]]"
      ]
     },
     "execution_count": 47,
     "metadata": {},
     "output_type": "execute_result"
    }
   ],
   "source": [
    "ca"
   ]
  },
  {
   "cell_type": "markdown",
   "metadata": {
    "slideshow": {
     "slide_type": "subslide"
    }
   },
   "source": [
    "Let us implement the **evaluation of a numerical expression** on this data set. The syntax and handling are the same **as with NumPy ``ndarray`` objects**. "
   ]
  },
  {
   "cell_type": "code",
   "execution_count": 48,
   "metadata": {
    "collapsed": false
   },
   "outputs": [
    {
     "name": "stdout",
     "output_type": "stream",
     "text": [
      "CPU times: user 141 ms, sys: 90.7 ms, total: 232 ms\n",
      "Wall time: 231 ms\n"
     ]
    },
    {
     "data": {
      "text/plain": [
       "array([[  0.00000000e+00,   2.00000000e+00,   5.41421356e+00, ...,\n",
       "          3.98805369e+06,   3.99204870e+06,   3.99604571e+06],\n",
       "       [  4.00004472e+06,   4.00404573e+06,   4.00804874e+06, ...,\n",
       "          1.59760722e+07,   1.59840672e+07,   1.59920642e+07],\n",
       "       [  1.60000632e+07,   1.60080643e+07,   1.60160673e+07, ...,\n",
       "          3.59640864e+07,   3.59760814e+07,   3.59880785e+07],\n",
       "       ..., \n",
       "       [  3.97603600e+12,   3.97603999e+12,   3.97604398e+12, ...,\n",
       "          3.98400403e+12,   3.98400802e+12,   3.98401201e+12],\n",
       "       [  3.98401600e+12,   3.98401999e+12,   3.98402399e+12, ...,\n",
       "          3.99199201e+12,   3.99199601e+12,   3.99200001e+12],\n",
       "       [  3.99200400e+12,   3.99200800e+12,   3.99201199e+12, ...,\n",
       "          3.99998800e+12,   3.99999200e+12,   3.99999600e+12]])"
      ]
     },
     "execution_count": 48,
     "metadata": {},
     "output_type": "execute_result"
    }
   ],
   "source": [
    "%time ca[:5000] ** 2 + np.sqrt(ca[10000:15000])"
   ]
  },
  {
   "cell_type": "markdown",
   "metadata": {
    "slideshow": {
     "slide_type": "subslide"
    }
   },
   "source": [
    "Another approach is to use the **``eval`` function** of bcolz."
   ]
  },
  {
   "cell_type": "code",
   "execution_count": 49,
   "metadata": {
    "collapsed": false
   },
   "outputs": [],
   "source": [
    "x = ca[:10000]  # 10,000 rows as sub-set"
   ]
  },
  {
   "cell_type": "code",
   "execution_count": 50,
   "metadata": {
    "collapsed": false
   },
   "outputs": [
    {
     "name": "stdout",
     "output_type": "stream",
     "text": [
      "CPU times: user 511 ms, sys: 45.9 ms, total: 557 ms\n",
      "Wall time: 366 ms\n"
     ]
    },
    {
     "data": {
      "text/plain": [
       "carray((10000, 2000), float64)\n",
       "  nbytes: 152.59 MB; cbytes: 56.40 MB; ratio: 2.71\n",
       "  cparams := cparams(clevel=9, shuffle=1, cname='blosclz')\n",
       "[[  0.00000000e+00   2.00000000e+00   5.41421356e+00 ...,   3.98805369e+06\n",
       "    3.99204870e+06   3.99604571e+06]\n",
       " [  4.00004472e+06   4.00404573e+06   4.00804874e+06 ...,   1.59760722e+07\n",
       "    1.59840672e+07   1.59920642e+07]\n",
       " [  1.60000632e+07   1.60080643e+07   1.60160673e+07 ...,   3.59640864e+07\n",
       "    3.59760814e+07   3.59880785e+07]\n",
       " ..., \n",
       " [  1.59520360e+13   1.59520440e+13   1.59520520e+13 ...,   1.59679920e+13\n",
       "    1.59680000e+13   1.59680080e+13]\n",
       " [  1.59680160e+13   1.59680240e+13   1.59680320e+13 ...,   1.59839800e+13\n",
       "    1.59839880e+13   1.59839960e+13]\n",
       " [  1.59840040e+13   1.59840120e+13   1.59840200e+13 ...,   1.59999760e+13\n",
       "    1.59999840e+13   1.59999920e+13]]"
      ]
     },
     "execution_count": 50,
     "metadata": {},
     "output_type": "execute_result"
    }
   ],
   "source": [
    "%time bcolz.eval('x ** 2 + sqrt(x)', cparams=bcolz.cparams(clevel=9))\n",
    "  # output carray object compressed"
   ]
  },
  {
   "cell_type": "markdown",
   "metadata": {
    "slideshow": {
     "slide_type": "subslide"
    }
   },
   "source": [
    "### Disk-Based Storage"
   ]
  },
  {
   "cell_type": "markdown",
   "metadata": {},
   "source": [
    "**Disk-based storage** of multiple versions of the array object. We write the object **400 times** to disk in a **single ``carray`` object**. It takes only about **0.1 mins** to compress and store **12 GB** worth of data **on disk**."
   ]
  },
  {
   "cell_type": "code",
   "execution_count": 51,
   "metadata": {
    "collapsed": false
   },
   "outputs": [
    {
     "name": "stdout",
     "output_type": "stream",
     "text": [
      "CPU times: user 3.2 s, sys: 2.12 s, total: 5.31 s\n",
      "Wall time: 6 s\n"
     ]
    }
   ],
   "source": [
    "%%time\n",
    "it = 400\n",
    "ca = bcolz.carray(a, rootdir='ca',\n",
    "                 cparams=bcolz.cparams(clevel=9))\n",
    "for i in range(it):\n",
    "    ca.append(a)"
   ]
  },
  {
   "cell_type": "markdown",
   "metadata": {
    "slideshow": {
     "slide_type": "subslide"
    }
   },
   "source": [
    "The **compression ratio** in this case is again **130+**."
   ]
  },
  {
   "cell_type": "code",
   "execution_count": 52,
   "metadata": {
    "collapsed": false
   },
   "outputs": [
    {
     "data": {
      "text/plain": [
       "carray((802000, 2000), int64)\n",
       "  nbytes: 11.95 GB; cbytes: 84.90 MB; ratio: 144.15\n",
       "  cparams := cparams(clevel=9, shuffle=1, cname='blosclz')\n",
       "  rootdir := 'ca'\n",
       "  mode    := 'a'\n",
       "[[      0       1       2 ...,    1997    1998    1999]\n",
       " [   2000    2001    2002 ...,    3997    3998    3999]\n",
       " [   4000    4001    4002 ...,    5997    5998    5999]\n",
       " ..., \n",
       " [3994000 3994001 3994002 ..., 3995997 3995998 3995999]\n",
       " [3996000 3996001 3996002 ..., 3997997 3997998 3997999]\n",
       " [3998000 3998001 3998002 ..., 3999997 3999998 3999999]]"
      ]
     },
     "execution_count": 52,
     "metadata": {},
     "output_type": "execute_result"
    }
   ],
   "source": [
    "ca"
   ]
  },
  {
   "cell_type": "markdown",
   "metadata": {
    "slideshow": {
     "slide_type": "subslide"
    }
   },
   "source": [
    "**Simple numerical operations** are easy to implement."
   ]
  },
  {
   "cell_type": "code",
   "execution_count": 53,
   "metadata": {
    "collapsed": false
   },
   "outputs": [
    {
     "name": "stdout",
     "output_type": "stream",
     "text": [
      "CPU times: user 22 ms, sys: 24.7 ms, total: 46.7 ms\n",
      "Wall time: 51.8 ms\n"
     ]
    },
    {
     "data": {
      "text/plain": [
       "3999998000000"
      ]
     },
     "execution_count": 53,
     "metadata": {},
     "output_type": "execute_result"
    }
   ],
   "source": [
    "%time np.sum(ca[:1000] + ca[4000:5000])"
   ]
  },
  {
   "cell_type": "markdown",
   "metadata": {
    "slideshow": {
     "slide_type": "subslide"
    }
   },
   "source": [
    "Let us try the previous, **mathematically more demanding operation** &ndash; again with a sub-set of the data."
   ]
  },
  {
   "cell_type": "code",
   "execution_count": 54,
   "metadata": {
    "collapsed": false
   },
   "outputs": [],
   "source": [
    "x = ca[:10000]  # 10,000 rows as sub-set"
   ]
  },
  {
   "cell_type": "markdown",
   "metadata": {
    "slideshow": {
     "slide_type": "subslide"
    }
   },
   "source": [
    "First, with an **in-memory ``carray`` results object**."
   ]
  },
  {
   "cell_type": "code",
   "execution_count": 55,
   "metadata": {
    "collapsed": false
   },
   "outputs": [
    {
     "name": "stdout",
     "output_type": "stream",
     "text": [
      "CPU times: user 669 ms, sys: 50.7 ms, total: 720 ms\n",
      "Wall time: 533 ms\n"
     ]
    },
    {
     "data": {
      "text/plain": [
       "carray((10000, 2000), float64)\n",
       "  nbytes: 152.59 MB; cbytes: 56.40 MB; ratio: 2.71\n",
       "  cparams := cparams(clevel=9, shuffle=1, cname='blosclz')\n",
       "[[  0.00000000e+00   2.00000000e+00   5.41421356e+00 ...,   3.98805369e+06\n",
       "    3.99204870e+06   3.99604571e+06]\n",
       " [  4.00004472e+06   4.00404573e+06   4.00804874e+06 ...,   1.59760722e+07\n",
       "    1.59840672e+07   1.59920642e+07]\n",
       " [  1.60000632e+07   1.60080643e+07   1.60160673e+07 ...,   3.59640864e+07\n",
       "    3.59760814e+07   3.59880785e+07]\n",
       " ..., \n",
       " [  1.59520360e+13   1.59520440e+13   1.59520520e+13 ...,   1.59679920e+13\n",
       "    1.59680000e+13   1.59680080e+13]\n",
       " [  1.59680160e+13   1.59680240e+13   1.59680320e+13 ...,   1.59839800e+13\n",
       "    1.59839880e+13   1.59839960e+13]\n",
       " [  1.59840040e+13   1.59840120e+13   1.59840200e+13 ...,   1.59999760e+13\n",
       "    1.59999840e+13   1.59999920e+13]]"
      ]
     },
     "execution_count": 55,
     "metadata": {},
     "output_type": "execute_result"
    }
   ],
   "source": [
    "%time bcolz.eval('x ** 2 + sqrt(x)', cparams=bcolz.cparams(9))"
   ]
  },
  {
   "cell_type": "markdown",
   "metadata": {
    "slideshow": {
     "slide_type": "subslide"
    }
   },
   "source": [
    "Second, with an **on-disk results object**. The time difference is not that huge."
   ]
  },
  {
   "cell_type": "code",
   "execution_count": 56,
   "metadata": {
    "collapsed": false
   },
   "outputs": [
    {
     "name": "stdout",
     "output_type": "stream",
     "text": [
      "CPU times: user 685 ms, sys: 81.7 ms, total: 767 ms\n",
      "Wall time: 597 ms\n"
     ]
    },
    {
     "data": {
      "text/plain": [
       "carray((10000, 2000), float64)\n",
       "  nbytes: 152.59 MB; cbytes: 56.40 MB; ratio: 2.71\n",
       "  cparams := cparams(clevel=9, shuffle=1, cname='blosclz')\n",
       "  rootdir := 'out'\n",
       "  mode    := 'a'\n",
       "[[  0.00000000e+00   2.00000000e+00   5.41421356e+00 ...,   3.98805369e+06\n",
       "    3.99204870e+06   3.99604571e+06]\n",
       " [  4.00004472e+06   4.00404573e+06   4.00804874e+06 ...,   1.59760722e+07\n",
       "    1.59840672e+07   1.59920642e+07]\n",
       " [  1.60000632e+07   1.60080643e+07   1.60160673e+07 ...,   3.59640864e+07\n",
       "    3.59760814e+07   3.59880785e+07]\n",
       " ..., \n",
       " [  1.59520360e+13   1.59520440e+13   1.59520520e+13 ...,   1.59679920e+13\n",
       "    1.59680000e+13   1.59680080e+13]\n",
       " [  1.59680160e+13   1.59680240e+13   1.59680320e+13 ...,   1.59839800e+13\n",
       "    1.59839880e+13   1.59839960e+13]\n",
       " [  1.59840040e+13   1.59840120e+13   1.59840200e+13 ...,   1.59999760e+13\n",
       "    1.59999840e+13   1.59999920e+13]]"
      ]
     },
     "execution_count": 56,
     "metadata": {},
     "output_type": "execute_result"
    }
   ],
   "source": [
    "%time bcolz.eval('x ** 2 + sqrt(x)', cparams=bcolz.cparams(9), rootdir='out')"
   ]
  },
  {
   "cell_type": "markdown",
   "metadata": {
    "slideshow": {
     "slide_type": "subslide"
    }
   },
   "source": [
    "Finally, we verify **system disk usage**."
   ]
  },
  {
   "cell_type": "code",
   "execution_count": 57,
   "metadata": {
    "collapsed": false
   },
   "outputs": [
    {
     "name": "stdout",
     "output_type": "stream",
     "text": [
      " 98M\tca\r\n"
     ]
    }
   ],
   "source": [
    "!du -hs ca\n",
    "# system disk usage"
   ]
  },
  {
   "cell_type": "code",
   "execution_count": 58,
   "metadata": {
    "collapsed": false
   },
   "outputs": [
    {
     "name": "stdout",
     "output_type": "stream",
     "text": [
      " 56M\tout\r\n"
     ]
    }
   ],
   "source": [
    "!du -hs out"
   ]
  },
  {
   "cell_type": "code",
   "execution_count": 59,
   "metadata": {
    "collapsed": false
   },
   "outputs": [],
   "source": [
    "!rm -r ca\n",
    "!rm -r out"
   ]
  },
  {
   "cell_type": "markdown",
   "metadata": {
    "slideshow": {
     "slide_type": "slide"
    }
   },
   "source": [
    "## blaze &ndash; Data Blending and Analysis"
   ]
  },
  {
   "cell_type": "markdown",
   "metadata": {
    "slideshow": {
     "slide_type": "subslide"
    }
   },
   "source": [
    "``blaze`` allows Python users a familiar interface to **query data living in diverse data storage systems**.\n",
    "Cf. <a href=\"http://blaze.pydata.org/\" target=\"_blank\">http://blaze.pydata.org/</a>."
   ]
  },
  {
   "cell_type": "code",
   "execution_count": 63,
   "metadata": {
    "collapsed": false
   },
   "outputs": [
    {
     "name": "stderr",
     "output_type": "stream",
     "text": [
      "/Users/aborodya/miniconda3/lib/python3.5/site-packages/flask/exthook.py:71: ExtDeprecationWarning: Importing flask.ext.cors is deprecated, use flask_cors instead.\n",
      "  .format(x=modname), ExtDeprecationWarning\n"
     ]
    }
   ],
   "source": [
    "import blaze as bz"
   ]
  },
  {
   "cell_type": "markdown",
   "metadata": {
    "slideshow": {
     "slide_type": "subslide"
    }
   },
   "source": [
    "### Simple Example "
   ]
  },
  {
   "cell_type": "markdown",
   "metadata": {},
   "source": [
    "The first example constructs a ``blaze.Data`` object from native Python objects."
   ]
  },
  {
   "cell_type": "code",
   "execution_count": 64,
   "metadata": {
    "collapsed": false
   },
   "outputs": [],
   "source": [
    "t = bz.Data([('Henry', 'boy', 8),\n",
    "              ('Lilli', 'girl', 14)],\n",
    "            fields=['name', 'gender', 'age'])"
   ]
  },
  {
   "cell_type": "code",
   "execution_count": 65,
   "metadata": {
    "collapsed": false
   },
   "outputs": [
    {
     "data": {
      "text/html": [
       "<table border=\"1\" class=\"dataframe\">\n",
       "  <thead>\n",
       "    <tr style=\"text-align: right;\">\n",
       "      <th></th>\n",
       "      <th>name</th>\n",
       "      <th>gender</th>\n",
       "      <th>age</th>\n",
       "    </tr>\n",
       "  </thead>\n",
       "  <tbody>\n",
       "    <tr>\n",
       "      <th>0</th>\n",
       "      <td>Henry</td>\n",
       "      <td>boy</td>\n",
       "      <td>8</td>\n",
       "    </tr>\n",
       "    <tr>\n",
       "      <th>1</th>\n",
       "      <td>Lilli</td>\n",
       "      <td>girl</td>\n",
       "      <td>14</td>\n",
       "    </tr>\n",
       "  </tbody>\n",
       "</table>"
      ],
      "text/plain": [
       "<'list' data; _name='_1', dshape='2 * {name: string, gender: string, age: int64}'>"
      ]
     },
     "execution_count": 65,
     "metadata": {},
     "output_type": "execute_result"
    }
   ],
   "source": [
    "t"
   ]
  },
  {
   "cell_type": "code",
   "execution_count": 66,
   "metadata": {
    "collapsed": false
   },
   "outputs": [
    {
     "data": {
      "text/html": [
       "<table border=\"1\" class=\"dataframe\">\n",
       "  <thead>\n",
       "    <tr style=\"text-align: right;\">\n",
       "      <th></th>\n",
       "      <th>name</th>\n",
       "      <th>gender</th>\n",
       "      <th>age</th>\n",
       "    </tr>\n",
       "  </thead>\n",
       "  <tbody>\n",
       "    <tr>\n",
       "      <th>0</th>\n",
       "      <td>Lilli</td>\n",
       "      <td>girl</td>\n",
       "      <td>14</td>\n",
       "    </tr>\n",
       "  </tbody>\n",
       "</table>"
      ],
      "text/plain": [
       "    name gender  age\n",
       "0  Lilli   girl   14"
      ]
     },
     "execution_count": 66,
     "metadata": {},
     "output_type": "execute_result"
    }
   ],
   "source": [
    "t[t.age > 10]"
   ]
  },
  {
   "cell_type": "markdown",
   "metadata": {
    "slideshow": {
     "slide_type": "subslide"
    }
   },
   "source": [
    "### Data from NumPy Array"
   ]
  },
  {
   "cell_type": "markdown",
   "metadata": {},
   "source": [
    "Let us read data from an **in-memory NumPy ``ndarray`` object**."
   ]
  },
  {
   "cell_type": "code",
   "execution_count": 67,
   "metadata": {
    "collapsed": false
   },
   "outputs": [],
   "source": [
    "import numpy as np"
   ]
  },
  {
   "cell_type": "code",
   "execution_count": 68,
   "metadata": {
    "collapsed": false
   },
   "outputs": [],
   "source": [
    "a = np.random.standard_normal((100000, 5))\n",
    "  # 100,000 data rows, 5 columns"
   ]
  },
  {
   "cell_type": "code",
   "execution_count": 69,
   "metadata": {
    "collapsed": false
   },
   "outputs": [],
   "source": [
    "df = bz.DataFrame(a, columns=['f0', 'f1', 'f2', 'f3', 'f4'])\n",
    "  # blaze DataFrame constructor"
   ]
  },
  {
   "cell_type": "markdown",
   "metadata": {
    "slideshow": {
     "slide_type": "subslide"
    }
   },
   "source": [
    "A look at the **data structure**."
   ]
  },
  {
   "cell_type": "code",
   "execution_count": 70,
   "metadata": {
    "collapsed": false
   },
   "outputs": [
    {
     "data": {
      "text/html": [
       "<div>\n",
       "<table border=\"1\" class=\"dataframe\">\n",
       "  <thead>\n",
       "    <tr style=\"text-align: right;\">\n",
       "      <th></th>\n",
       "      <th>f0</th>\n",
       "      <th>f1</th>\n",
       "      <th>f2</th>\n",
       "      <th>f3</th>\n",
       "      <th>f4</th>\n",
       "    </tr>\n",
       "  </thead>\n",
       "  <tbody>\n",
       "    <tr>\n",
       "      <th>0</th>\n",
       "      <td>-1.219542</td>\n",
       "      <td>1.091796</td>\n",
       "      <td>-2.045479</td>\n",
       "      <td>1.311821</td>\n",
       "      <td>-0.752070</td>\n",
       "    </tr>\n",
       "    <tr>\n",
       "      <th>1</th>\n",
       "      <td>-1.153918</td>\n",
       "      <td>-0.562911</td>\n",
       "      <td>1.196046</td>\n",
       "      <td>0.379420</td>\n",
       "      <td>0.160829</td>\n",
       "    </tr>\n",
       "    <tr>\n",
       "      <th>2</th>\n",
       "      <td>-0.703821</td>\n",
       "      <td>0.683282</td>\n",
       "      <td>-1.309900</td>\n",
       "      <td>1.537965</td>\n",
       "      <td>-0.593525</td>\n",
       "    </tr>\n",
       "    <tr>\n",
       "      <th>3</th>\n",
       "      <td>0.164305</td>\n",
       "      <td>0.497946</td>\n",
       "      <td>0.525211</td>\n",
       "      <td>2.034773</td>\n",
       "      <td>0.547212</td>\n",
       "    </tr>\n",
       "    <tr>\n",
       "      <th>4</th>\n",
       "      <td>-0.182832</td>\n",
       "      <td>-2.786494</td>\n",
       "      <td>0.051321</td>\n",
       "      <td>0.104499</td>\n",
       "      <td>-1.313259</td>\n",
       "    </tr>\n",
       "  </tbody>\n",
       "</table>\n",
       "</div>"
      ],
      "text/plain": [
       "         f0        f1        f2        f3        f4\n",
       "0 -1.219542  1.091796 -2.045479  1.311821 -0.752070\n",
       "1 -1.153918 -0.562911  1.196046  0.379420  0.160829\n",
       "2 -0.703821  0.683282 -1.309900  1.537965 -0.593525\n",
       "3  0.164305  0.497946  0.525211  2.034773  0.547212\n",
       "4 -0.182832 -2.786494  0.051321  0.104499 -1.313259"
      ]
     },
     "execution_count": 70,
     "metadata": {},
     "output_type": "execute_result"
    }
   ],
   "source": [
    "df.head()"
   ]
  },
  {
   "cell_type": "markdown",
   "metadata": {
    "slideshow": {
     "slide_type": "subslide"
    }
   },
   "source": [
    "Data itself is stored as **NumPy ``ndarray`` object**."
   ]
  },
  {
   "cell_type": "code",
   "execution_count": 71,
   "metadata": {
    "collapsed": false
   },
   "outputs": [
    {
     "data": {
      "text/plain": [
       "array([[-1.21954188,  1.09179618, -2.04547902,  1.31182148, -0.75207015],\n",
       "       [-1.15391803, -0.56291056,  1.19604604,  0.37941988,  0.16082934],\n",
       "       [-0.70382054,  0.68328174, -1.30990024,  1.53796466, -0.59352529],\n",
       "       ..., \n",
       "       [-0.72343235,  0.14503998,  0.36454971, -0.30924454,  0.29113999],\n",
       "       [-0.00259988,  0.68487007,  1.38176883,  1.32686985, -0.06803716],\n",
       "       [ 0.88087594,  1.15949478,  0.83877129,  1.77018912,  1.25655758]])"
      ]
     },
     "execution_count": 71,
     "metadata": {},
     "output_type": "execute_result"
    }
   ],
   "source": [
    "df.values"
   ]
  },
  {
   "cell_type": "markdown",
   "metadata": {
    "slideshow": {
     "slide_type": "subslide"
    }
   },
   "source": [
    "### Data from CSV File"
   ]
  },
  {
   "cell_type": "markdown",
   "metadata": {},
   "source": [
    "We generate first a **CSV file** using the random data from before."
   ]
  },
  {
   "cell_type": "code",
   "execution_count": 72,
   "metadata": {
    "collapsed": false
   },
   "outputs": [
    {
     "name": "stdout",
     "output_type": "stream",
     "text": [
      "CPU times: user 1.24 s, sys: 65.7 ms, total: 1.31 s\n",
      "Wall time: 1.32 s\n"
     ]
    }
   ],
   "source": [
    "%time df.to_csv('data.csv', index=False)"
   ]
  },
  {
   "cell_type": "markdown",
   "metadata": {
    "slideshow": {
     "slide_type": "subslide"
    }
   },
   "source": [
    "Let us **read the data** with ``blaze``. Actually, we **only generate a view**."
   ]
  },
  {
   "cell_type": "code",
   "execution_count": 73,
   "metadata": {
    "collapsed": false
   },
   "outputs": [
    {
     "name": "stdout",
     "output_type": "stream",
     "text": [
      "CPU times: user 11 µs, sys: 1 µs, total: 12 µs\n",
      "Wall time: 13.8 µs\n"
     ]
    }
   ],
   "source": [
    "%time csv = bz.CSV('data.csv')"
   ]
  },
  {
   "cell_type": "code",
   "execution_count": 74,
   "metadata": {
    "collapsed": false
   },
   "outputs": [
    {
     "name": "stdout",
     "output_type": "stream",
     "text": [
      "CPU times: user 11.6 ms, sys: 2.9 ms, total: 14.5 ms\n",
      "Wall time: 17.5 ms\n"
     ]
    }
   ],
   "source": [
    "%time t1 = bz.Data(csv)"
   ]
  },
  {
   "cell_type": "markdown",
   "metadata": {
    "slideshow": {
     "slide_type": "subslide"
    }
   },
   "source": [
    "Now, we can **work** with the data. Note, however, that iterating, slicing, etc. are **not** (yet) implemented. "
   ]
  },
  {
   "cell_type": "code",
   "execution_count": 75,
   "metadata": {
    "collapsed": false
   },
   "outputs": [
    {
     "name": "stdout",
     "output_type": "stream",
     "text": [
      "CPU times: user 481 µs, sys: 1 µs, total: 482 µs\n",
      "Wall time: 488 µs\n"
     ]
    },
    {
     "data": {
      "text/html": [
       "100000"
      ],
      "text/plain": [
       "100000"
      ]
     },
     "execution_count": 75,
     "metadata": {},
     "output_type": "execute_result"
    }
   ],
   "source": [
    "%time t1.count()"
   ]
  },
  {
   "cell_type": "markdown",
   "metadata": {
    "slideshow": {
     "slide_type": "subslide"
    }
   },
   "source": [
    "The **backend** is a **CSV object**. And a look at the **first 10 rows**."
   ]
  },
  {
   "cell_type": "code",
   "execution_count": 76,
   "metadata": {
    "collapsed": false
   },
   "outputs": [
    {
     "data": {
      "text/plain": [
       "<odo.backends.csv.CSV at 0x1284dc780>"
      ]
     },
     "execution_count": 76,
     "metadata": {},
     "output_type": "execute_result"
    }
   ],
   "source": [
    "t1.data"
   ]
  },
  {
   "cell_type": "code",
   "execution_count": 77,
   "metadata": {
    "collapsed": false
   },
   "outputs": [
    {
     "data": {
      "text/html": [
       "<table border=\"1\" class=\"dataframe\">\n",
       "  <thead>\n",
       "    <tr style=\"text-align: right;\">\n",
       "      <th></th>\n",
       "      <th>f0</th>\n",
       "      <th>f1</th>\n",
       "      <th>f2</th>\n",
       "      <th>f3</th>\n",
       "      <th>f4</th>\n",
       "    </tr>\n",
       "  </thead>\n",
       "  <tbody>\n",
       "    <tr>\n",
       "      <th>0</th>\n",
       "      <td>-1.219542</td>\n",
       "      <td>1.091796</td>\n",
       "      <td>-2.045479</td>\n",
       "      <td>1.311821</td>\n",
       "      <td>-0.752070</td>\n",
       "    </tr>\n",
       "    <tr>\n",
       "      <th>1</th>\n",
       "      <td>-1.153918</td>\n",
       "      <td>-0.562911</td>\n",
       "      <td>1.196046</td>\n",
       "      <td>0.379420</td>\n",
       "      <td>0.160829</td>\n",
       "    </tr>\n",
       "    <tr>\n",
       "      <th>2</th>\n",
       "      <td>-0.703821</td>\n",
       "      <td>0.683282</td>\n",
       "      <td>-1.309900</td>\n",
       "      <td>1.537965</td>\n",
       "      <td>-0.593525</td>\n",
       "    </tr>\n",
       "    <tr>\n",
       "      <th>3</th>\n",
       "      <td>0.164305</td>\n",
       "      <td>0.497946</td>\n",
       "      <td>0.525211</td>\n",
       "      <td>2.034773</td>\n",
       "      <td>0.547212</td>\n",
       "    </tr>\n",
       "    <tr>\n",
       "      <th>4</th>\n",
       "      <td>-0.182832</td>\n",
       "      <td>-2.786494</td>\n",
       "      <td>0.051321</td>\n",
       "      <td>0.104499</td>\n",
       "      <td>-1.313259</td>\n",
       "    </tr>\n",
       "    <tr>\n",
       "      <th>5</th>\n",
       "      <td>1.424003</td>\n",
       "      <td>-0.746940</td>\n",
       "      <td>0.110617</td>\n",
       "      <td>0.802231</td>\n",
       "      <td>-1.736647</td>\n",
       "    </tr>\n",
       "    <tr>\n",
       "      <th>6</th>\n",
       "      <td>-0.694639</td>\n",
       "      <td>0.732727</td>\n",
       "      <td>0.483061</td>\n",
       "      <td>-1.080476</td>\n",
       "      <td>-0.396932</td>\n",
       "    </tr>\n",
       "    <tr>\n",
       "      <th>7</th>\n",
       "      <td>-0.935404</td>\n",
       "      <td>-0.078792</td>\n",
       "      <td>0.278508</td>\n",
       "      <td>0.218445</td>\n",
       "      <td>-2.252050</td>\n",
       "    </tr>\n",
       "    <tr>\n",
       "      <th>8</th>\n",
       "      <td>0.055264</td>\n",
       "      <td>1.166068</td>\n",
       "      <td>0.514387</td>\n",
       "      <td>-0.321039</td>\n",
       "      <td>-1.179258</td>\n",
       "    </tr>\n",
       "    <tr>\n",
       "      <th>9</th>\n",
       "      <td>0.509285</td>\n",
       "      <td>-0.760408</td>\n",
       "      <td>-2.030184</td>\n",
       "      <td>0.445022</td>\n",
       "      <td>1.568316</td>\n",
       "    </tr>\n",
       "    <tr>\n",
       "      <th>10</th>\n",
       "      <td>-0.249623</td>\n",
       "      <td>-1.620424</td>\n",
       "      <td>-0.607872</td>\n",
       "      <td>-0.916829</td>\n",
       "      <td>0.310488</td>\n",
       "    </tr>\n",
       "  </tbody>\n",
       "</table>"
      ],
      "text/plain": [
       "<'CSV' data; _name='_2', dshape='var * {  f0: float64,  f1: float64,  f2: float64, ...'>"
      ]
     },
     "execution_count": 77,
     "metadata": {},
     "output_type": "execute_result"
    }
   ],
   "source": [
    "t1"
   ]
  },
  {
   "cell_type": "markdown",
   "metadata": {
    "slideshow": {
     "slide_type": "subslide"
    }
   },
   "source": [
    "### Data from SQL"
   ]
  },
  {
   "cell_type": "markdown",
   "metadata": {},
   "source": [
    "We now generate a **SQLite3 table** with the dummy data from before."
   ]
  },
  {
   "cell_type": "code",
   "execution_count": 78,
   "metadata": {
    "collapsed": false
   },
   "outputs": [],
   "source": [
    "import sqlite3 as sq3"
   ]
  },
  {
   "cell_type": "code",
   "execution_count": 79,
   "metadata": {
    "collapsed": false
   },
   "outputs": [],
   "source": [
    "con = sq3.connect('data.sql')\n",
    "try:\n",
    "    con.execute('DROP TABLE numbers')\n",
    "    # delete in case it exists\n",
    "except:\n",
    "    pass"
   ]
  },
  {
   "cell_type": "markdown",
   "metadata": {
    "slideshow": {
     "slide_type": "subslide"
    }
   },
   "source": [
    "We **write the data** into an appropriate table."
   ]
  },
  {
   "cell_type": "code",
   "execution_count": 80,
   "metadata": {
    "collapsed": false
   },
   "outputs": [
    {
     "data": {
      "text/plain": [
       "<sqlite3.Cursor at 0x128590420>"
      ]
     },
     "execution_count": 80,
     "metadata": {},
     "output_type": "execute_result"
    }
   ],
   "source": [
    "con.execute(\n",
    "    'CREATE TABLE numbers (f0 real, f1 real, f2 real, f3 real, f4 real)'\n",
    "    )"
   ]
  },
  {
   "cell_type": "code",
   "execution_count": 81,
   "metadata": {
    "collapsed": false
   },
   "outputs": [
    {
     "name": "stdout",
     "output_type": "stream",
     "text": [
      "CPU times: user 832 ms, sys: 9.06 ms, total: 841 ms\n",
      "Wall time: 844 ms\n"
     ]
    },
    {
     "data": {
      "text/plain": [
       "<sqlite3.Cursor at 0x128590340>"
      ]
     },
     "execution_count": 81,
     "metadata": {},
     "output_type": "execute_result"
    }
   ],
   "source": [
    "%time con.executemany('INSERT INTO numbers VALUES (?, ?, ?, ?, ?)', a)"
   ]
  },
  {
   "cell_type": "code",
   "execution_count": 82,
   "metadata": {
    "collapsed": false
   },
   "outputs": [],
   "source": [
    "con.commit()"
   ]
  },
  {
   "cell_type": "code",
   "execution_count": 83,
   "metadata": {
    "collapsed": false
   },
   "outputs": [],
   "source": [
    "con.close()"
   ]
  },
  {
   "cell_type": "markdown",
   "metadata": {
    "slideshow": {
     "slide_type": "subslide"
    }
   },
   "source": [
    "Now **reading the data** with ``blaze`` (i.e. just generating a view)."
   ]
  },
  {
   "cell_type": "code",
   "execution_count": 84,
   "metadata": {
    "collapsed": false
   },
   "outputs": [
    {
     "name": "stdout",
     "output_type": "stream",
     "text": [
      "CPU times: user 16.8 ms, sys: 3.77 ms, total: 20.6 ms\n",
      "Wall time: 27.6 ms\n"
     ]
    }
   ],
   "source": [
    "%time t2 = bz.Data('sqlite:///data.sql::numbers')"
   ]
  },
  {
   "cell_type": "markdown",
   "metadata": {
    "slideshow": {
     "slide_type": "subslide"
    }
   },
   "source": [
    "The **schema** and **first 10 rows** again."
   ]
  },
  {
   "cell_type": "code",
   "execution_count": 85,
   "metadata": {
    "collapsed": false,
    "slideshow": {
     "slide_type": "-"
    }
   },
   "outputs": [
    {
     "data": {
      "text/plain": [
       "dshape(\"{f0: ?float32, f1: ?float32, f2: ?float32, f3: ?float32, f4: ?float32}\")"
      ]
     },
     "execution_count": 85,
     "metadata": {},
     "output_type": "execute_result"
    }
   ],
   "source": [
    "t2.schema"
   ]
  },
  {
   "cell_type": "code",
   "execution_count": 86,
   "metadata": {
    "collapsed": false
   },
   "outputs": [
    {
     "data": {
      "text/html": [
       "<table border=\"1\" class=\"dataframe\">\n",
       "  <thead>\n",
       "    <tr style=\"text-align: right;\">\n",
       "      <th></th>\n",
       "      <th>f0</th>\n",
       "      <th>f1</th>\n",
       "      <th>f2</th>\n",
       "      <th>f3</th>\n",
       "      <th>f4</th>\n",
       "    </tr>\n",
       "  </thead>\n",
       "  <tbody>\n",
       "    <tr>\n",
       "      <th>0</th>\n",
       "      <td>-1.219542</td>\n",
       "      <td>1.091796</td>\n",
       "      <td>-2.045479</td>\n",
       "      <td>1.311821</td>\n",
       "      <td>-0.752070</td>\n",
       "    </tr>\n",
       "    <tr>\n",
       "      <th>1</th>\n",
       "      <td>-1.153918</td>\n",
       "      <td>-0.562911</td>\n",
       "      <td>1.196046</td>\n",
       "      <td>0.379420</td>\n",
       "      <td>0.160829</td>\n",
       "    </tr>\n",
       "    <tr>\n",
       "      <th>2</th>\n",
       "      <td>-0.703821</td>\n",
       "      <td>0.683282</td>\n",
       "      <td>-1.309900</td>\n",
       "      <td>1.537965</td>\n",
       "      <td>-0.593525</td>\n",
       "    </tr>\n",
       "    <tr>\n",
       "      <th>3</th>\n",
       "      <td>0.164305</td>\n",
       "      <td>0.497946</td>\n",
       "      <td>0.525211</td>\n",
       "      <td>2.034773</td>\n",
       "      <td>0.547212</td>\n",
       "    </tr>\n",
       "    <tr>\n",
       "      <th>4</th>\n",
       "      <td>-0.182832</td>\n",
       "      <td>-2.786494</td>\n",
       "      <td>0.051321</td>\n",
       "      <td>0.104499</td>\n",
       "      <td>-1.313259</td>\n",
       "    </tr>\n",
       "    <tr>\n",
       "      <th>5</th>\n",
       "      <td>1.424003</td>\n",
       "      <td>-0.746940</td>\n",
       "      <td>0.110617</td>\n",
       "      <td>0.802231</td>\n",
       "      <td>-1.736647</td>\n",
       "    </tr>\n",
       "    <tr>\n",
       "      <th>6</th>\n",
       "      <td>-0.694639</td>\n",
       "      <td>0.732727</td>\n",
       "      <td>0.483061</td>\n",
       "      <td>-1.080476</td>\n",
       "      <td>-0.396932</td>\n",
       "    </tr>\n",
       "    <tr>\n",
       "      <th>7</th>\n",
       "      <td>-0.935404</td>\n",
       "      <td>-0.078792</td>\n",
       "      <td>0.278508</td>\n",
       "      <td>0.218445</td>\n",
       "      <td>-2.252050</td>\n",
       "    </tr>\n",
       "    <tr>\n",
       "      <th>8</th>\n",
       "      <td>0.055264</td>\n",
       "      <td>1.166068</td>\n",
       "      <td>0.514387</td>\n",
       "      <td>-0.321039</td>\n",
       "      <td>-1.179258</td>\n",
       "    </tr>\n",
       "    <tr>\n",
       "      <th>9</th>\n",
       "      <td>0.509285</td>\n",
       "      <td>-0.760408</td>\n",
       "      <td>-2.030184</td>\n",
       "      <td>0.445022</td>\n",
       "      <td>1.568316</td>\n",
       "    </tr>\n",
       "    <tr>\n",
       "      <th>10</th>\n",
       "      <td>-0.249623</td>\n",
       "      <td>-1.620424</td>\n",
       "      <td>-0.607872</td>\n",
       "      <td>-0.916829</td>\n",
       "      <td>0.310488</td>\n",
       "    </tr>\n",
       "  </tbody>\n",
       "</table>"
      ],
      "text/plain": [
       "<'Table' data; _name='_3', dshape='var * {  f0: ?float32,  f1: ?float32,  f2: ?float3...'>"
      ]
     },
     "execution_count": 86,
     "metadata": {},
     "output_type": "execute_result"
    }
   ],
   "source": [
    "t2"
   ]
  },
  {
   "cell_type": "markdown",
   "metadata": {
    "slideshow": {
     "slide_type": "subslide"
    }
   },
   "source": [
    "### Working with the blaze Objects"
   ]
  },
  {
   "cell_type": "markdown",
   "metadata": {},
   "source": [
    "``blaze`` provides an **abstraction logic** for computations/queries."
   ]
  },
  {
   "cell_type": "code",
   "execution_count": 88,
   "metadata": {
    "collapsed": false
   },
   "outputs": [],
   "source": [
    "ts = bz.Symbol('ts',\n",
    "        'var * {f0: float64, f1: float64, f2: float64, f3: float64, f4: float64}')\n",
    "  # generic table description -- independent of the target data structure\n",
    "expr = ts[ts['f0'] + ts['f3'] > 2.5]['f1']\n",
    "  # generic expression -- independent of the target data structure"
   ]
  },
  {
   "cell_type": "markdown",
   "metadata": {
    "slideshow": {
     "slide_type": "subslide"
    }
   },
   "source": [
    "The ``blaze`` compiler **specializes the generic objects** to different data structures."
   ]
  },
  {
   "cell_type": "code",
   "execution_count": 89,
   "metadata": {
    "collapsed": false
   },
   "outputs": [
    {
     "name": "stdout",
     "output_type": "stream",
     "text": [
      "CPU times: user 76 ms, sys: 7.46 ms, total: 83.4 ms\n",
      "Wall time: 118 ms\n"
     ]
    },
    {
     "data": {
      "text/plain": [
       "array([ 0.83772022, -1.22873874,  1.37114737, ...,  0.04019095,\n",
       "       -1.18189529,  1.15949478])"
      ]
     },
     "execution_count": 89,
     "metadata": {},
     "output_type": "execute_result"
    }
   ],
   "source": [
    "%time np.array(bz.compute(expr, a))  # NumPy ndarray object"
   ]
  },
  {
   "cell_type": "code",
   "execution_count": 90,
   "metadata": {
    "collapsed": false
   },
   "outputs": [
    {
     "name": "stdout",
     "output_type": "stream",
     "text": [
      "CPU times: user 5.66 ms, sys: 835 µs, total: 6.5 ms\n",
      "Wall time: 5.82 ms\n"
     ]
    },
    {
     "data": {
      "text/plain": [
       "array([ 0.83772022, -1.22873874,  1.37114737, ...,  0.04019095,\n",
       "       -1.18189529,  1.15949478])"
      ]
     },
     "execution_count": 90,
     "metadata": {},
     "output_type": "execute_result"
    }
   ],
   "source": [
    "%time np.array(bz.compute(expr, df))  # DataFrame object"
   ]
  },
  {
   "cell_type": "code",
   "execution_count": 91,
   "metadata": {
    "collapsed": false
   },
   "outputs": [
    {
     "name": "stdout",
     "output_type": "stream",
     "text": [
      "CPU times: user 144 ms, sys: 15.7 ms, total: 159 ms\n",
      "Wall time: 160 ms\n"
     ]
    },
    {
     "data": {
      "text/plain": [
       "array([ 0.83772022, -1.22873874,  1.37114737, ...,  0.04019095,\n",
       "       -1.18189529,  1.15949478])"
      ]
     },
     "execution_count": 91,
     "metadata": {},
     "output_type": "execute_result"
    }
   ],
   "source": [
    "%time np.array(bz.compute(expr, csv))  # CSV file representation"
   ]
  },
  {
   "cell_type": "markdown",
   "metadata": {
    "slideshow": {
     "slide_type": "subslide"
    }
   },
   "source": [
    "In similar fashion, ``blaze`` allows **unified expression evaluations** for different backends (I)."
   ]
  },
  {
   "cell_type": "code",
   "execution_count": 92,
   "metadata": {
    "collapsed": false
   },
   "outputs": [
    {
     "name": "stdout",
     "output_type": "stream",
     "text": [
      "CPU times: user 638 µs, sys: 4 µs, total: 642 µs\n",
      "Wall time: 647 µs\n"
     ]
    },
    {
     "data": {
      "text/html": [
       "<table border=\"1\" class=\"dataframe\">\n",
       "  <thead>\n",
       "    <tr style=\"text-align: right;\">\n",
       "      <th></th>\n",
       "      <th>f1</th>\n",
       "    </tr>\n",
       "  </thead>\n",
       "  <tbody>\n",
       "    <tr>\n",
       "      <th>36</th>\n",
       "      <td>0.837720</td>\n",
       "    </tr>\n",
       "    <tr>\n",
       "      <th>41</th>\n",
       "      <td>-1.228739</td>\n",
       "    </tr>\n",
       "    <tr>\n",
       "      <th>50</th>\n",
       "      <td>1.371147</td>\n",
       "    </tr>\n",
       "    <tr>\n",
       "      <th>136</th>\n",
       "      <td>-0.378784</td>\n",
       "    </tr>\n",
       "    <tr>\n",
       "      <th>180</th>\n",
       "      <td>0.319985</td>\n",
       "    </tr>\n",
       "    <tr>\n",
       "      <th>185</th>\n",
       "      <td>0.603729</td>\n",
       "    </tr>\n",
       "    <tr>\n",
       "      <th>205</th>\n",
       "      <td>-0.497743</td>\n",
       "    </tr>\n",
       "    <tr>\n",
       "      <th>280</th>\n",
       "      <td>0.864722</td>\n",
       "    </tr>\n",
       "    <tr>\n",
       "      <th>303</th>\n",
       "      <td>-0.622168</td>\n",
       "    </tr>\n",
       "    <tr>\n",
       "      <th>313</th>\n",
       "      <td>-1.066153</td>\n",
       "    </tr>\n",
       "  </tbody>\n",
       "</table>"
      ],
      "text/plain": [
       "           f1\n",
       "36   0.837720\n",
       "41  -1.228739\n",
       "50   1.371147\n",
       "136 -0.378784\n",
       "180  0.319985\n",
       "185  0.603729\n",
       "205 -0.497743\n",
       "280  0.864722\n",
       "303 -0.622168\n",
       "313 -1.066153"
      ]
     },
     "execution_count": 92,
     "metadata": {},
     "output_type": "execute_result"
    }
   ],
   "source": [
    "%time t1[t1['f0'] + t1['f3'] > 2.5]['f1'].head()\n",
    "  # table representation 1\n",
    "  # from CSV"
   ]
  },
  {
   "cell_type": "markdown",
   "metadata": {
    "slideshow": {
     "slide_type": "subslide"
    }
   },
   "source": [
    "In similar fashion, ``blaze`` allows **unified expression evaluations** for different backends (II)."
   ]
  },
  {
   "cell_type": "code",
   "execution_count": 93,
   "metadata": {
    "collapsed": false
   },
   "outputs": [
    {
     "name": "stdout",
     "output_type": "stream",
     "text": [
      "CPU times: user 976 µs, sys: 2 µs, total: 978 µs\n",
      "Wall time: 984 µs\n"
     ]
    },
    {
     "data": {
      "text/html": [
       "<table border=\"1\" class=\"dataframe\">\n",
       "  <thead>\n",
       "    <tr style=\"text-align: right;\">\n",
       "      <th></th>\n",
       "      <th>f1</th>\n",
       "    </tr>\n",
       "  </thead>\n",
       "  <tbody>\n",
       "    <tr>\n",
       "      <th>0</th>\n",
       "      <td>0.837720</td>\n",
       "    </tr>\n",
       "    <tr>\n",
       "      <th>1</th>\n",
       "      <td>-1.228739</td>\n",
       "    </tr>\n",
       "    <tr>\n",
       "      <th>2</th>\n",
       "      <td>1.371147</td>\n",
       "    </tr>\n",
       "    <tr>\n",
       "      <th>3</th>\n",
       "      <td>-0.378784</td>\n",
       "    </tr>\n",
       "    <tr>\n",
       "      <th>4</th>\n",
       "      <td>0.319985</td>\n",
       "    </tr>\n",
       "    <tr>\n",
       "      <th>5</th>\n",
       "      <td>0.603729</td>\n",
       "    </tr>\n",
       "    <tr>\n",
       "      <th>6</th>\n",
       "      <td>-0.497743</td>\n",
       "    </tr>\n",
       "    <tr>\n",
       "      <th>7</th>\n",
       "      <td>0.864722</td>\n",
       "    </tr>\n",
       "    <tr>\n",
       "      <th>8</th>\n",
       "      <td>-0.622168</td>\n",
       "    </tr>\n",
       "    <tr>\n",
       "      <th>9</th>\n",
       "      <td>-1.066153</td>\n",
       "    </tr>\n",
       "  </tbody>\n",
       "</table>"
      ],
      "text/plain": [
       "         f1\n",
       "0  0.837720\n",
       "1 -1.228739\n",
       "2  1.371147\n",
       "3 -0.378784\n",
       "4  0.319985\n",
       "5  0.603729\n",
       "6 -0.497743\n",
       "7  0.864722\n",
       "8 -0.622168\n",
       "9 -1.066153"
      ]
     },
     "execution_count": 93,
     "metadata": {},
     "output_type": "execute_result"
    }
   ],
   "source": [
    "%time t2[t2['f0'] + t2['f3'] > 2.5]['f1'].head()\n",
    "  # table representation 2\n",
    "  # from SQL database"
   ]
  },
  {
   "cell_type": "markdown",
   "metadata": {
    "slideshow": {
     "slide_type": "subslide"
    }
   },
   "source": [
    "Typical **aggregational operations** work as well."
   ]
  },
  {
   "cell_type": "code",
   "execution_count": 94,
   "metadata": {
    "collapsed": false
   },
   "outputs": [
    {
     "name": "stdout",
     "output_type": "stream",
     "text": [
      "CPU times: user 255 µs, sys: 1e+03 ns, total: 256 µs\n",
      "Wall time: 260 µs\n"
     ]
    },
    {
     "data": {
      "text/html": [
       "93.72194798771568"
      ],
      "text/plain": [
       "93.72194798771568"
      ]
     },
     "execution_count": 94,
     "metadata": {},
     "output_type": "execute_result"
    }
   ],
   "source": [
    "%time t1.f0.sum()"
   ]
  },
  {
   "cell_type": "code",
   "execution_count": 95,
   "metadata": {
    "collapsed": false
   },
   "outputs": [
    {
     "name": "stdout",
     "output_type": "stream",
     "text": [
      "CPU times: user 295 µs, sys: 1e+03 ns, total: 296 µs\n",
      "Wall time: 302 µs\n"
     ]
    },
    {
     "data": {
      "text/html": [
       "4.373041089455813"
      ],
      "text/plain": [
       "4.373041089455813"
      ]
     },
     "execution_count": 95,
     "metadata": {},
     "output_type": "execute_result"
    }
   ],
   "source": [
    "%time t2.f3.max()"
   ]
  },
  {
   "cell_type": "markdown",
   "metadata": {
    "slideshow": {
     "slide_type": "subslide"
    }
   },
   "source": [
    "### Transforming Data Formats"
   ]
  },
  {
   "cell_type": "markdown",
   "metadata": {
    "slideshow": {
     "slide_type": "-"
    }
   },
   "source": [
    "If you work intensively with data sets, it might be beneficial to transform them once into **highly performant binary data formats (eg ``bcolz, HDF5``)**."
   ]
  },
  {
   "cell_type": "markdown",
   "metadata": {
    "slideshow": {
     "slide_type": "subslide"
    }
   },
   "source": [
    "#### Using bcolz as Data Store"
   ]
  },
  {
   "cell_type": "code",
   "execution_count": 96,
   "metadata": {
    "collapsed": false
   },
   "outputs": [
    {
     "name": "stdout",
     "output_type": "stream",
     "text": [
      "CPU times: user 189 ms, sys: 54.1 ms, total: 243 ms\n",
      "Wall time: 259 ms\n"
     ]
    },
    {
     "data": {
      "text/plain": [
       "ctable((100000,), [('f0', '<f8'), ('f1', '<f8'), ('f2', '<f8'), ('f3', '<f8'), ('f4', '<f8')])\n",
       "  nbytes: 3.81 MB; cbytes: 3.86 MB; ratio: 0.99\n",
       "  cparams := cparams(clevel=5, shuffle=1, cname='blosclz')\n",
       "  rootdir := 'data.bcolz'\n",
       "[ (-1.2195418840262224, 1.0917961753277623, -2.04547901646488, 1.311821477752534, -0.7520701453984565)\n",
       " (-1.1539180311396593, -0.5629105632286145, 1.1960460357043574, 0.3794198780061779, 0.16082934348349426)\n",
       " (-0.7038205383153447, 0.6832817411796253, -1.3099002350831166, 1.5379646587547833, -0.5935252921207356)\n",
       " ...,\n",
       " (-0.7234323539569881, 0.14503997908105326, 0.36454971455278695, -0.3092445373834557, 0.2911399894839659)\n",
       " (-0.0025998761187741226, 0.6848700718801553, 1.3817688346036745, 1.3268698518055244, -0.06803716212741459)\n",
       " (0.8808759414396393, 1.1594947848147341, 0.8387712864855591, 1.77018912027648, 1.2565575762379195)]"
      ]
     },
     "execution_count": 96,
     "metadata": {},
     "output_type": "execute_result"
    }
   ],
   "source": [
    "%time bz.into('data.bcolz', 'data.csv')\n",
    "  # natively done by blaze\n",
    "  # cparams=bcolz.cparams(9) could be added\n",
    "  # no effect here due to random floats"
   ]
  },
  {
   "cell_type": "markdown",
   "metadata": {
    "slideshow": {
     "slide_type": "subslide"
    }
   },
   "source": [
    "We can now connect to the ``bcolz`` **disk-based ``ctable`` object**."
   ]
  },
  {
   "cell_type": "code",
   "execution_count": 97,
   "metadata": {
    "collapsed": false
   },
   "outputs": [],
   "source": [
    "import bcolz as bc"
   ]
  },
  {
   "cell_type": "code",
   "execution_count": 98,
   "metadata": {
    "collapsed": false
   },
   "outputs": [],
   "source": [
    "b = bc.ctable(rootdir='data.bcolz') "
   ]
  },
  {
   "cell_type": "markdown",
   "metadata": {
    "slideshow": {
     "slide_type": "subslide"
    }
   },
   "source": [
    "Now, the power of ``bcolz`` for **numerical computations** can be played out."
   ]
  },
  {
   "cell_type": "code",
   "execution_count": 99,
   "metadata": {
    "collapsed": false
   },
   "outputs": [
    {
     "name": "stdout",
     "output_type": "stream",
     "text": [
      "CPU times: user 10.3 ms, sys: 7.44 ms, total: 17.8 ms\n",
      "Wall time: 15.9 ms\n"
     ]
    }
   ],
   "source": [
    "%time nex = b.eval('sqrt(abs(f0)) + log(abs(f1))')"
   ]
  },
  {
   "cell_type": "code",
   "execution_count": 100,
   "metadata": {
    "collapsed": false
   },
   "outputs": [
    {
     "data": {
      "text/plain": [
       "carray((100000,), float64)\n",
       "  nbytes: 781.25 KB; cbytes: 1.00 MB; ratio: 0.76\n",
       "  cparams := cparams(clevel=5, shuffle=1, cname='blosclz')\n",
       "[ 1.19215291  0.49957125  0.45809213 ..., -1.08019759 -0.32753715\n",
       "  1.08653429]"
      ]
     },
     "execution_count": 100,
     "metadata": {},
     "output_type": "execute_result"
    }
   ],
   "source": [
    "nex"
   ]
  },
  {
   "cell_type": "markdown",
   "metadata": {
    "slideshow": {
     "slide_type": "subslide"
    }
   },
   "source": [
    "#### Using HDF5"
   ]
  },
  {
   "cell_type": "markdown",
   "metadata": {},
   "source": [
    "Similarly, we can use **``PyTables`` and ``HDF5``** as an efficient binary store."
   ]
  },
  {
   "cell_type": "code",
   "execution_count": 101,
   "metadata": {
    "collapsed": false
   },
   "outputs": [],
   "source": [
    "import pandas as pd"
   ]
  },
  {
   "cell_type": "code",
   "execution_count": 102,
   "metadata": {
    "collapsed": false
   },
   "outputs": [
    {
     "name": "stdout",
     "output_type": "stream",
     "text": [
      "CPU times: user 221 ms, sys: 18.6 ms, total: 240 ms\n",
      "Wall time: 240 ms\n"
     ]
    }
   ],
   "source": [
    "%%time\n",
    "con = sq3.connect('data.sql')\n",
    "pd.HDFStore('data.h5')['sql'] = pd.read_sql('SELECT * FROM numbers', con)\n",
    "  # simultaneously reading whole SQL table and writing it to HDF5 store\n",
    "con.close()"
   ]
  },
  {
   "cell_type": "markdown",
   "metadata": {
    "slideshow": {
     "slide_type": "subslide"
    }
   },
   "source": [
    "Now, data can be **efficiently** retrieved."
   ]
  },
  {
   "cell_type": "code",
   "execution_count": 103,
   "metadata": {
    "collapsed": false
   },
   "outputs": [
    {
     "name": "stdout",
     "output_type": "stream",
     "text": [
      "CPU times: user 60.2 ms, sys: 3.06 ms, total: 63.3 ms\n",
      "Wall time: 64.8 ms\n"
     ]
    },
    {
     "data": {
      "image/png": "[encoded data removed]",
      "text/plain": [
       "<matplotlib.figure.Figure at 0x12b4e07b8>"
      ]
     },
     "metadata": {},
     "output_type": "display_data"
    }
   ],
   "source": [
    "%%time\n",
    "%matplotlib inline\n",
    "pd.HDFStore('data.h5')['sql'][::1000].cumsum().plot(figsize=(10, 5))\n",
    "  # simultaneously reading data from HDF5 store and plotting it"
   ]
  },
  {
   "cell_type": "markdown",
   "metadata": {
    "slideshow": {
     "slide_type": "subslide"
    }
   },
   "source": [
    "### Cleaning Up"
   ]
  },
  {
   "cell_type": "code",
   "execution_count": 104,
   "metadata": {
    "collapsed": false
   },
   "outputs": [
    {
     "name": "stdout",
     "output_type": "stream",
     "text": [
      "976K\tdata.bcolz/f0/data\r\n",
      "8.0K\tdata.bcolz/f0/meta\r\n",
      "988K\tdata.bcolz/f0\r\n",
      "976K\tdata.bcolz/f1/data\r\n",
      "8.0K\tdata.bcolz/f1/meta\r\n",
      "988K\tdata.bcolz/f1\r\n",
      "976K\tdata.bcolz/f2/data\r\n",
      "8.0K\tdata.bcolz/f2/meta\r\n",
      "988K\tdata.bcolz/f2\r\n",
      "976K\tdata.bcolz/f3/data\r\n",
      "8.0K\tdata.bcolz/f3/meta\r\n",
      "988K\tdata.bcolz/f3\r\n",
      "976K\tdata.bcolz/f4/data\r\n",
      "8.0K\tdata.bcolz/f4/meta\r\n",
      "988K\tdata.bcolz/f4\r\n",
      "4.8M\tdata.bcolz\r\n",
      "9.4M\tdata.csv\r\n",
      "4.6M\tdata.h5\r\n",
      "5.0M\tdata.sql\r\n"
     ]
    }
   ],
   "source": [
    "!du -h dat*"
   ]
  },
  {
   "cell_type": "code",
   "execution_count": 105,
   "metadata": {
    "collapsed": false,
    "slideshow": {
     "slide_type": "subslide"
    }
   },
   "outputs": [
    {
     "name": "stdout",
     "output_type": "stream",
     "text": [
      "-rw-r--r--  1 501  20  9815127 Jul 17 09:55 data.csv\r\n",
      "-rw-r--r--  1 501  20  4807192 Jul 17 09:58 data.h5\r\n",
      "-rw-r--r--  1 501  20  5251072 Jul 17 09:55 data.sql\r\n",
      "\r\n",
      "data.bcolz:\r\n",
      "total 16\r\n",
      "-rw-r--r--  1 501  20    3 Jul 17 09:57 __attrs__\r\n",
      "-rw-r--r--  1 501  20   42 Jul 17 09:57 __rootdirs__\r\n",
      "drwxr-xr-x  5 501  20  170 Jul 17 09:57 \u001b[34mf0\u001b[m\u001b[m\r\n",
      "drwxr-xr-x  5 501  20  170 Jul 17 09:57 \u001b[34mf1\u001b[m\u001b[m\r\n",
      "drwxr-xr-x  5 501  20  170 Jul 17 09:57 \u001b[34mf2\u001b[m\u001b[m\r\n",
      "drwxr-xr-x  5 501  20  170 Jul 17 09:57 \u001b[34mf3\u001b[m\u001b[m\r\n",
      "drwxr-xr-x  5 501  20  170 Jul 17 09:57 \u001b[34mf4\u001b[m\u001b[m\r\n"
     ]
    }
   ],
   "source": [
    "!ls -n dat*.*"
   ]
  },
  {
   "cell_type": "code",
   "execution_count": 106,
   "metadata": {
    "collapsed": false
   },
   "outputs": [],
   "source": [
    "# cleaning up\n",
    "!rm -r dat*.*"
   ]
  },
  {
   "cell_type": "markdown",
   "metadata": {
    "slideshow": {
     "slide_type": "slide"
    }
   },
   "source": [
    "## Conclusion"
   ]
  },
  {
   "cell_type": "markdown",
   "metadata": {},
   "source": [
    "**High performance (hardware-bound) I/O operations and highly efficient data blending and analytics are among Python's key strengths.**"
   ]
  },
  {
   "cell_type": "markdown",
   "metadata": {
    "slideshow": {
     "slide_type": "slide"
    }
   },
   "source": [
    "<img src=\"http://hilpisch.com/tpq_logo.png\" alt=\"The Python Quants\" width=\"35%\" align=\"right\" border=\"0\"><br>\n",
    "\n",
    "<a href=\"http://tpq.io\" target=\"_blank\">http://tpq.io</a> | <a href=\"http://twitter.com/dyjh\" target=\"_blank\">@dyjh</a> | <a href=\"mailto:team@pqp.io\">team@tpq.io</a>\n",
    "\n",
    "**Quant Platform** |\n",
    "<a href=\"http://quant-platform.com\">http://quant-platform.com</a>\n",
    "\n",
    "**datapark.io** |\n",
    "<a href=\"http://datapark.io\">http://datapark.io</a>\n",
    "\n",
    "**Python for Finance** |\n",
    "<a href=\"http://python-for-finance.com\" target=\"_blank\">Python for Finance @ O'Reilly</a>\n",
    "\n",
    "**Derivatives Analytics with Python** |\n",
    "<a href=\"http://derivatives-analytics-with-python.com\" target=\"_blank\">Derivatives Analytics @ Wiley Finance</a>"
   ]
  }
 ],
 "metadata": {
  "celltoolbar": "Slideshow",
  "kernelspec": {
   "display_name": "Python 3",
   "language": "python",
   "name": "python3"
  },
  "language_info": {
   "codemirror_mode": {
    "name": "ipython",
    "version": 3
   },
   "file_extension": ".py",
   "mimetype": "text/x-python",
   "name": "python",
   "nbconvert_exporter": "python",
   "pygments_lexer": "ipython3",
   "version": "3.5.2"
  }
 },
 "nbformat": 4,
 "nbformat_minor": 0
}
